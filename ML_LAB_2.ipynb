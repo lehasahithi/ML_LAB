{
  "nbformat": 4,
  "nbformat_minor": 0,
  "metadata": {
    "colab": {
      "provenance": []
    },
    "kernelspec": {
      "name": "python3",
      "display_name": "Python 3"
    },
    "language_info": {
      "name": "python"
    }
  },
  "cells": [
    {
      "cell_type": "code",
      "execution_count": 3,
      "metadata": {
        "colab": {
          "base_uri": "https://localhost:8080/"
        },
        "id": "xarvvKFoEqdP",
        "outputId": "076f6029-575b-478c-dc24-a8e8cc47fac3"
      },
      "outputs": [
        {
          "output_type": "stream",
          "name": "stdout",
          "text": [
            "Euclidean Distance: 5.196152422706632\n",
            "Manhattan Distance: 9\n"
          ]
        }
      ],
      "source": [
        "import math\n",
        "\n",
        "def calculate_euclidean_distance(vec1, vec2):\n",
        "\n",
        "    if len(vec1) != len(vec2):\n",
        "        print(\"Vectors must have the same dimensionality\")\n",
        "    squared_diff_sum = sum((v1 - v2)**2 for v1, v2 in zip(vec1, vec2))\n",
        "    euclidean_distance = math.sqrt(squared_diff_sum)\n",
        "    return euclidean_distance\n",
        "\n",
        "def calculate_manhattan_distance(vec1, vec2):\n",
        "\n",
        "    if len(vec1) != len(vec2):\n",
        "        print(\"Vectors must have the same dimensionality\")\n",
        "    manhattan_distance = sum(abs(v1 - v2) for v1, v2 in zip(vec1, vec2))\n",
        "\n",
        "    return manhattan_distance\n",
        "vec1 = [1, 2, 3]\n",
        "vec2 = [4, 5, 6]\n",
        "\n",
        "euclidean_dist = calculate_euclidean_distance(vec1, vec2)\n",
        "manhattan_dist = calculate_manhattan_distance(vec1, vec2)\n",
        "\n",
        "print(\"Euclidean Distance:\", euclidean_dist)\n",
        "print(\"Manhattan Distance:\", manhattan_dist)\n"
      ]
    },
    {
      "cell_type": "code",
      "source": [
        "def euclidean_distance(vector1, vector2):\n",
        "    return sum((v1 - v2) ** 2 for v1, v2 in zip(vector1, vector2)) ** 0.5\n",
        "\n",
        "def k_nearest_neighbors(training_data, test_instance, k=3):\n",
        "    distances = [(euclidean_distance(test_instance, training_instance), label) for training_instance, label in training_data]\n",
        "    sorted_distances = sorted(distances, key=lambda x: x[0])\n",
        "    k_nearest_labels = [label for _, label in sorted_distances[:k]]\n",
        "\n",
        "    label_count = {}\n",
        "    for label in k_nearest_labels:\n",
        "        if label in label_count:\n",
        "            label_count[label] += 1\n",
        "        else:\n",
        "            label_count[label] = 1\n",
        "\n",
        "    max_count = 0\n",
        "    most_common_label = None\n",
        "    for label, count in label_count.items():\n",
        "        if count > max_count:\n",
        "            max_count = count\n",
        "            most_common_label = label\n",
        "\n",
        "    return most_common_label\n",
        "\n",
        "training_data = [([120,1000,6.5], '4-seater'), ([170,2500,17.5], '6-seater')]\n",
        "test_instance = [155,3500,12.5]\n",
        "k_value = 1\n",
        "\n",
        "predicted_label = k_nearest_neighbors(training_data, test_instance, k=k_value)\n",
        "print(f\"The predicted label for the test instance is: {predicted_label}\")"
      ],
      "metadata": {
        "colab": {
          "base_uri": "https://localhost:8080/"
        },
        "id": "X9jQn66jImHv",
        "outputId": "586bcd55-586d-4700-9fb6-070f41184b09"
      },
      "execution_count": 15,
      "outputs": [
        {
          "output_type": "stream",
          "name": "stdout",
          "text": [
            "The predicted label for the test instance is: 6-seater\n"
          ]
        }
      ]
    },
    {
      "cell_type": "code",
      "source": [
        "def label_encode_categorical(data, col_name):\n",
        "    uni_labels = list(set(data[col_name]))\n",
        "    label_encoder = {label: idx for idx, label in enumerate(uni_labels)}\n",
        "\n",
        "    data[col_name] = [label_encoder[label] for label in data[col_name]]\n",
        "    return data, label_encoder\n",
        "\n",
        "def main():\n",
        "    my_data = {\n",
        "        \"Gender\": ['F', 'M', 'M', 'F', 'M', 'F', 'M', 'F', 'F', 'M'],\n",
        "        \"Name\": ['Cindy', 'Carl', 'Johnny', 'Stacey', 'Andy', 'Sara', 'Victor', 'Martha', 'Mindy', 'Max']\n",
        "    }\n",
        "\n",
        "    print(\"Original Data:\\n\")\n",
        "    for key, values in my_data.items():\n",
        "        print(f\"{key}: {values}\")\n",
        "\n",
        "    my_data, label_encoder = label_encode_categorical(my_data, 'Gender')\n",
        "\n",
        "    print(\"\\nUnique Labels:\", set(my_data['Gender']))\n",
        "    print(\"\\nData after Label Encoding:\\n\")\n",
        "    for key, values in my_data.items():\n",
        "        print(f\"{key}: {values}\")\n",
        "\n",
        "if __name__ == \"__main__\":\n",
        "    main()"
      ],
      "metadata": {
        "colab": {
          "base_uri": "https://localhost:8080/"
        },
        "id": "erthQAOZUkIW",
        "outputId": "131ea19e-ca99-4553-fb36-5834f64cdc10"
      },
      "execution_count": 17,
      "outputs": [
        {
          "output_type": "stream",
          "name": "stdout",
          "text": [
            "Original Data:\n",
            "\n",
            "Gender: ['F', 'M', 'M', 'F', 'M', 'F', 'M', 'F', 'F', 'M']\n",
            "Name: ['Cindy', 'Carl', 'Johnny', 'Stacey', 'Andy', 'Sara', 'Victor', 'Martha', 'Mindy', 'Max']\n",
            "\n",
            "Unique Labels: {0, 1}\n",
            "\n",
            "Data after Label Encoding:\n",
            "\n",
            "Gender: [1, 0, 0, 1, 0, 1, 0, 1, 1, 0]\n",
            "Name: ['Cindy', 'Carl', 'Johnny', 'Stacey', 'Andy', 'Sara', 'Victor', 'Martha', 'Mindy', 'Max']\n"
          ]
        }
      ]
    }
  ]
}